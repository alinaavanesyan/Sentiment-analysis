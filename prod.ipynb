{
  "cells": [
    {
      "cell_type": "markdown",
      "metadata": {
        "id": "8kO39ek9XrfJ"
      },
      "source": [
        "### **1. Сбор данных**"
      ]
    },
    {
      "cell_type": "markdown",
      "metadata": {
        "id": "EfKgyyCZXom6"
      },
      "source": [
        "В качестве источника данных был выбран сайт https://spasibovsem.ru, в котором собраны отзывы на фильмы разных времен. Парсинг осуществлялся с помощью HHTP-протоколов модуля requests, а извлечение данных стало доступно благодаря модулю BeautifulSoup. Для предотвращения блокировки как реакции сайта на краулинг были приняты следующие меры:\n",
        "1) Рандомный фальшивый браузер (UserAgent)\n",
        "2) Промежутки time.sleep(<секунды>) между запросами"
      ]
    },
    {
      "cell_type": "code",
      "execution_count": null,
      "metadata": {
        "id": "VtBcUvkoXtML"
      },
      "outputs": [],
      "source": [
        "import requests\n",
        "import pandas as pd\n",
        "from bs4 import BeautifulSoup\n",
        "from fake_useragent import UserAgent\n",
        "import requests\n",
        "import time\n",
        "\n",
        "ua = UserAgent(verify_ssl=True)\n",
        "session = requests.session()\n",
        "header={'User-Agent': ua.random, 'referer':'https://www.google.com/'}"
      ]
    },
    {
      "cell_type": "code",
      "execution_count": null,
      "metadata": {
        "id": "PmJHhtaTWOCk"
      },
      "outputs": [],
      "source": [
        "all_info = pd.DataFrame(columns=['Name', 'Review', 'Rate'])\n",
        "number_of_pages = 181\n",
        "for i in range(1, number_of_pages+1):\n",
        "    time.sleep(2)\n",
        "    req = session.get(f'https://spasibovsem.ru/filmy-otzyvy/?page={i}', headers=header)\n",
        "    soup = BeautifulSoup(req.text, 'html.parser')\n",
        "    items = soup.find_all('div', {'class': 'name'})\n",
        "    for item in items:\n",
        "        time.sleep(2)\n",
        "        item_name = item.find('a').get_text()\n",
        "        link = 'https://spasibovsem.ru' + item.find('a')['href']\n",
        "        req = session.get(link, headers=header)\n",
        "        item_page = BeautifulSoup(req.text, 'html.parser')\n",
        "        review_links = item_page.find_all('div', {'class': 'full-item goto'})\n",
        "        if isinstance(review_links, list) == False:\n",
        "            review_links = [review_links]\n",
        "        for review_link in review_links:\n",
        "            time.sleep(3)\n",
        "            review_link = review_link.find('a')['href']\n",
        "            req_review = session.get(f'https://spasibovsem.ru{review_link}', headers=header)\n",
        "            review_page = BeautifulSoup(req_review.text, 'html.parser')\n",
        "            rating = review_page.find('div', {'class': 'params'}).find('div', {'class': 'val'}).find('div', {'class': 'stars big'})['data-fill']\n",
        "            review_text = review_page.find('div', {'class': 'text response-text description'}).get_text()\n",
        "            all_info.loc[len(all_info.index)] = [item_name, review_text, rating]\n",
        "            all_info.to_csv('data_movies.csv')"
      ]
    },
    {
      "cell_type": "markdown",
      "metadata": {
        "id": "XMy7xG_qYFbp"
      },
      "source": [
        "*По меры скачивания отзывов данные сохранялись в файл во избежании потери данных переменной при ошибках ядра Kernel*\n",
        "<br>*На скачивание свыше 3к примеров ушло около 6 часов (такое кол-во примеров обусловлено предложениями по улучшению алгоритма (см. п. 5)*)"
      ]
    },
    {
      "cell_type": "markdown",
      "metadata": {
        "id": "OO1rw1H908FM"
      },
      "source": [
        "! Необходимые переменные я сохранила в файлы, т.к. их получение требует времени"
      ]
    },
    {
      "cell_type": "code",
      "execution_count": 2,
      "metadata": {
        "id": "KPPDtfwa07D2"
      },
      "outputs": [],
      "source": [
        "import re\n",
        "#собранные с сайта отзывы\n",
        "data_full = pd.read_csv('data.csv', delimiter=',')\n",
        "del data_full['Unnamed: 0']\n",
        "data_full['Rate'] = data_full['Rate'].astype(int)\n",
        "data_full['Real'] = data_full['Rate'].apply(lambda x: 'положительный' if x > 3 else 'отрицательный')\n",
        "\n",
        "#лемматизированные данные\n",
        "data = pd.read_csv('all_data_tokens.csv', delimiter=',')\n",
        "del data['Unnamed: 0']\n",
        "data['Rate'] = data['Rate'].astype(int)\n",
        "data['Real'] = data['Rate'].apply(lambda x: 'положительный' if x > 3 else 'отрицательный')\n",
        "\n",
        "#при сохранении файла меняется тип данных в колонке Review, поэтому из строки нужно опять сделать список\n",
        "def clean_tokens(text):\n",
        "    text2 = []\n",
        "    for i in range(len(text)):\n",
        "        text[i] = re.sub(\"'|«|»|,| ,|, ,| \", '', text[i])\n",
        "        if text[i].isalpha():\n",
        "          text2.append(text[i])\n",
        "    return text2\n",
        "\n",
        "data['Review'] = data['Review'].apply(lambda x: x[1:-2].split(\"',\"))\n",
        "data['Review'] = data['Review'].apply(clean_tokens)\n",
        "data = data[data['Rate'] != 3]"
      ]
    },
    {
      "cell_type": "code",
      "execution_count": 15,
      "metadata": {
        "colab": {
          "base_uri": "https://localhost:8080/",
          "height": 363
        },
        "id": "wzTmKlV9Y6gf",
        "outputId": "42b7f001-ae51-43ac-9b79-0190213d20f4"
      },
      "outputs": [
        {
          "data": {
            "text/html": [
              "\n",
              "  <div id=\"df-db876837-ed47-49f0-ab0a-f0a85d7a5535\" class=\"colab-df-container\">\n",
              "    <div>\n",
              "<style scoped>\n",
              "    .dataframe tbody tr th:only-of-type {\n",
              "        vertical-align: middle;\n",
              "    }\n",
              "\n",
              "    .dataframe tbody tr th {\n",
              "        vertical-align: top;\n",
              "    }\n",
              "\n",
              "    .dataframe thead th {\n",
              "        text-align: right;\n",
              "    }\n",
              "</style>\n",
              "<table border=\"1\" class=\"dataframe\">\n",
              "  <thead>\n",
              "    <tr style=\"text-align: right;\">\n",
              "      <th></th>\n",
              "      <th>Name</th>\n",
              "      <th>Review</th>\n",
              "      <th>Rate</th>\n",
              "      <th>Real</th>\n",
              "    </tr>\n",
              "  </thead>\n",
              "  <tbody>\n",
              "    <tr>\n",
              "      <th>0</th>\n",
              "      <td>Фильм \"Рассмеши меня\" (2023)</td>\n",
              "      <td>\\r\\nРоссийские комедии зачастую оказываются ве...</td>\n",
              "      <td>3</td>\n",
              "      <td>отрицательный</td>\n",
              "    </tr>\n",
              "    <tr>\n",
              "      <th>1</th>\n",
              "      <td>Фильм \"Неудержимые 4\" (2023)</td>\n",
              "      <td>\\r\\nКрутые боевики всегда привлекают внимание,...</td>\n",
              "      <td>4</td>\n",
              "      <td>положительный</td>\n",
              "    </tr>\n",
              "    <tr>\n",
              "      <th>2</th>\n",
              "      <td>Фильм \"За Палыча!\" (2023)</td>\n",
              "      <td>\\r\\nЛюблю глянуть комедий, а если на ролях зая...</td>\n",
              "      <td>5</td>\n",
              "      <td>положительный</td>\n",
              "    </tr>\n",
              "    <tr>\n",
              "      <th>3</th>\n",
              "      <td>Фильм \"Тайны герцогини\" (2022)</td>\n",
              "      <td>\\r\\nИногда у людей могут складываться странные...</td>\n",
              "      <td>4</td>\n",
              "      <td>положительный</td>\n",
              "    </tr>\n",
              "    <tr>\n",
              "      <th>4</th>\n",
              "      <td>Фильм \"У людей так бывает\" (2023)</td>\n",
              "      <td>\\r\\nЯ раньше никогда не смотрела кино, которое...</td>\n",
              "      <td>3</td>\n",
              "      <td>отрицательный</td>\n",
              "    </tr>\n",
              "    <tr>\n",
              "      <th>5</th>\n",
              "      <td>Фильм \"Американские преступники\" (2023)</td>\n",
              "      <td>\\r\\nИногда случается так, что некоторым престу...</td>\n",
              "      <td>4</td>\n",
              "      <td>положительный</td>\n",
              "    </tr>\n",
              "    <tr>\n",
              "      <th>6</th>\n",
              "      <td>Фильм \"Эйми\" (2023)</td>\n",
              "      <td>\\r\\nТема похищения и продажи людей всегда акту...</td>\n",
              "      <td>3</td>\n",
              "      <td>отрицательный</td>\n",
              "    </tr>\n",
              "    <tr>\n",
              "      <th>7</th>\n",
              "      <td>Фильм \"Ставок больше нет\" (2023)</td>\n",
              "      <td>\\r\\nВсем давно известно, что увлечение азартны...</td>\n",
              "      <td>4</td>\n",
              "      <td>положительный</td>\n",
              "    </tr>\n",
              "    <tr>\n",
              "      <th>8</th>\n",
              "      <td>Фильм \"Статистическая вероятность любви с перв...</td>\n",
              "      <td>\\r\\nДумаю многие верят в то, что есть судьбоно...</td>\n",
              "      <td>4</td>\n",
              "      <td>положительный</td>\n",
              "    </tr>\n",
              "    <tr>\n",
              "      <th>9</th>\n",
              "      <td>Фильм \"Пенсионный план\" (2023)</td>\n",
              "      <td>\\r\\nКровные узы, безусловно, играют свою роль ...</td>\n",
              "      <td>3</td>\n",
              "      <td>отрицательный</td>\n",
              "    </tr>\n",
              "  </tbody>\n",
              "</table>\n",
              "</div>\n",
              "    <div class=\"colab-df-buttons\">\n",
              "\n",
              "  <div class=\"colab-df-container\">\n",
              "    <button class=\"colab-df-convert\" onclick=\"convertToInteractive('df-db876837-ed47-49f0-ab0a-f0a85d7a5535')\"\n",
              "            title=\"Convert this dataframe to an interactive table.\"\n",
              "            style=\"display:none;\">\n",
              "\n",
              "  <svg xmlns=\"http://www.w3.org/2000/svg\" height=\"24px\" viewBox=\"0 -960 960 960\">\n",
              "    <path d=\"M120-120v-720h720v720H120Zm60-500h600v-160H180v160Zm220 220h160v-160H400v160Zm0 220h160v-160H400v160ZM180-400h160v-160H180v160Zm440 0h160v-160H620v160ZM180-180h160v-160H180v160Zm440 0h160v-160H620v160Z\"/>\n",
              "  </svg>\n",
              "    </button>\n",
              "\n",
              "  <style>\n",
              "    .colab-df-container {\n",
              "      display:flex;\n",
              "      gap: 12px;\n",
              "    }\n",
              "\n",
              "    .colab-df-convert {\n",
              "      background-color: #E8F0FE;\n",
              "      border: none;\n",
              "      border-radius: 50%;\n",
              "      cursor: pointer;\n",
              "      display: none;\n",
              "      fill: #1967D2;\n",
              "      height: 32px;\n",
              "      padding: 0 0 0 0;\n",
              "      width: 32px;\n",
              "    }\n",
              "\n",
              "    .colab-df-convert:hover {\n",
              "      background-color: #E2EBFA;\n",
              "      box-shadow: 0px 1px 2px rgba(60, 64, 67, 0.3), 0px 1px 3px 1px rgba(60, 64, 67, 0.15);\n",
              "      fill: #174EA6;\n",
              "    }\n",
              "\n",
              "    .colab-df-buttons div {\n",
              "      margin-bottom: 4px;\n",
              "    }\n",
              "\n",
              "    [theme=dark] .colab-df-convert {\n",
              "      background-color: #3B4455;\n",
              "      fill: #D2E3FC;\n",
              "    }\n",
              "\n",
              "    [theme=dark] .colab-df-convert:hover {\n",
              "      background-color: #434B5C;\n",
              "      box-shadow: 0px 1px 3px 1px rgba(0, 0, 0, 0.15);\n",
              "      filter: drop-shadow(0px 1px 2px rgba(0, 0, 0, 0.3));\n",
              "      fill: #FFFFFF;\n",
              "    }\n",
              "  </style>\n",
              "\n",
              "    <script>\n",
              "      const buttonEl =\n",
              "        document.querySelector('#df-db876837-ed47-49f0-ab0a-f0a85d7a5535 button.colab-df-convert');\n",
              "      buttonEl.style.display =\n",
              "        google.colab.kernel.accessAllowed ? 'block' : 'none';\n",
              "\n",
              "      async function convertToInteractive(key) {\n",
              "        const element = document.querySelector('#df-db876837-ed47-49f0-ab0a-f0a85d7a5535');\n",
              "        const dataTable =\n",
              "          await google.colab.kernel.invokeFunction('convertToInteractive',\n",
              "                                                    [key], {});\n",
              "        if (!dataTable) return;\n",
              "\n",
              "        const docLinkHtml = 'Like what you see? Visit the ' +\n",
              "          '<a target=\"_blank\" href=https://colab.research.google.com/notebooks/data_table.ipynb>data table notebook</a>'\n",
              "          + ' to learn more about interactive tables.';\n",
              "        element.innerHTML = '';\n",
              "        dataTable['output_type'] = 'display_data';\n",
              "        await google.colab.output.renderOutput(dataTable, element);\n",
              "        const docLink = document.createElement('div');\n",
              "        docLink.innerHTML = docLinkHtml;\n",
              "        element.appendChild(docLink);\n",
              "      }\n",
              "    </script>\n",
              "  </div>\n",
              "\n",
              "\n",
              "<div id=\"df-5d368fa2-8e4a-4317-98f8-d13e12ef0e9a\">\n",
              "  <button class=\"colab-df-quickchart\" onclick=\"quickchart('df-5d368fa2-8e4a-4317-98f8-d13e12ef0e9a')\"\n",
              "            title=\"Suggest charts.\"\n",
              "            style=\"display:none;\">\n",
              "\n",
              "<svg xmlns=\"http://www.w3.org/2000/svg\" height=\"24px\"viewBox=\"0 0 24 24\"\n",
              "     width=\"24px\">\n",
              "    <g>\n",
              "        <path d=\"M19 3H5c-1.1 0-2 .9-2 2v14c0 1.1.9 2 2 2h14c1.1 0 2-.9 2-2V5c0-1.1-.9-2-2-2zM9 17H7v-7h2v7zm4 0h-2V7h2v10zm4 0h-2v-4h2v4z\"/>\n",
              "    </g>\n",
              "</svg>\n",
              "  </button>\n",
              "\n",
              "<style>\n",
              "  .colab-df-quickchart {\n",
              "      --bg-color: #E8F0FE;\n",
              "      --fill-color: #1967D2;\n",
              "      --hover-bg-color: #E2EBFA;\n",
              "      --hover-fill-color: #174EA6;\n",
              "      --disabled-fill-color: #AAA;\n",
              "      --disabled-bg-color: #DDD;\n",
              "  }\n",
              "\n",
              "  [theme=dark] .colab-df-quickchart {\n",
              "      --bg-color: #3B4455;\n",
              "      --fill-color: #D2E3FC;\n",
              "      --hover-bg-color: #434B5C;\n",
              "      --hover-fill-color: #FFFFFF;\n",
              "      --disabled-bg-color: #3B4455;\n",
              "      --disabled-fill-color: #666;\n",
              "  }\n",
              "\n",
              "  .colab-df-quickchart {\n",
              "    background-color: var(--bg-color);\n",
              "    border: none;\n",
              "    border-radius: 50%;\n",
              "    cursor: pointer;\n",
              "    display: none;\n",
              "    fill: var(--fill-color);\n",
              "    height: 32px;\n",
              "    padding: 0;\n",
              "    width: 32px;\n",
              "  }\n",
              "\n",
              "  .colab-df-quickchart:hover {\n",
              "    background-color: var(--hover-bg-color);\n",
              "    box-shadow: 0 1px 2px rgba(60, 64, 67, 0.3), 0 1px 3px 1px rgba(60, 64, 67, 0.15);\n",
              "    fill: var(--button-hover-fill-color);\n",
              "  }\n",
              "\n",
              "  .colab-df-quickchart-complete:disabled,\n",
              "  .colab-df-quickchart-complete:disabled:hover {\n",
              "    background-color: var(--disabled-bg-color);\n",
              "    fill: var(--disabled-fill-color);\n",
              "    box-shadow: none;\n",
              "  }\n",
              "\n",
              "  .colab-df-spinner {\n",
              "    border: 2px solid var(--fill-color);\n",
              "    border-color: transparent;\n",
              "    border-bottom-color: var(--fill-color);\n",
              "    animation:\n",
              "      spin 1s steps(1) infinite;\n",
              "  }\n",
              "\n",
              "  @keyframes spin {\n",
              "    0% {\n",
              "      border-color: transparent;\n",
              "      border-bottom-color: var(--fill-color);\n",
              "      border-left-color: var(--fill-color);\n",
              "    }\n",
              "    20% {\n",
              "      border-color: transparent;\n",
              "      border-left-color: var(--fill-color);\n",
              "      border-top-color: var(--fill-color);\n",
              "    }\n",
              "    30% {\n",
              "      border-color: transparent;\n",
              "      border-left-color: var(--fill-color);\n",
              "      border-top-color: var(--fill-color);\n",
              "      border-right-color: var(--fill-color);\n",
              "    }\n",
              "    40% {\n",
              "      border-color: transparent;\n",
              "      border-right-color: var(--fill-color);\n",
              "      border-top-color: var(--fill-color);\n",
              "    }\n",
              "    60% {\n",
              "      border-color: transparent;\n",
              "      border-right-color: var(--fill-color);\n",
              "    }\n",
              "    80% {\n",
              "      border-color: transparent;\n",
              "      border-right-color: var(--fill-color);\n",
              "      border-bottom-color: var(--fill-color);\n",
              "    }\n",
              "    90% {\n",
              "      border-color: transparent;\n",
              "      border-bottom-color: var(--fill-color);\n",
              "    }\n",
              "  }\n",
              "</style>\n",
              "\n",
              "  <script>\n",
              "    async function quickchart(key) {\n",
              "      const quickchartButtonEl =\n",
              "        document.querySelector('#' + key + ' button');\n",
              "      quickchartButtonEl.disabled = true;  // To prevent multiple clicks.\n",
              "      quickchartButtonEl.classList.add('colab-df-spinner');\n",
              "      try {\n",
              "        const charts = await google.colab.kernel.invokeFunction(\n",
              "            'suggestCharts', [key], {});\n",
              "      } catch (error) {\n",
              "        console.error('Error during call to suggestCharts:', error);\n",
              "      }\n",
              "      quickchartButtonEl.classList.remove('colab-df-spinner');\n",
              "      quickchartButtonEl.classList.add('colab-df-quickchart-complete');\n",
              "    }\n",
              "    (() => {\n",
              "      let quickchartButtonEl =\n",
              "        document.querySelector('#df-5d368fa2-8e4a-4317-98f8-d13e12ef0e9a button');\n",
              "      quickchartButtonEl.style.display =\n",
              "        google.colab.kernel.accessAllowed ? 'block' : 'none';\n",
              "    })();\n",
              "  </script>\n",
              "</div>\n",
              "    </div>\n",
              "  </div>\n"
            ],
            "text/plain": [
              "                                                Name  \\\n",
              "0                       Фильм \"Рассмеши меня\" (2023)   \n",
              "1                       Фильм \"Неудержимые 4\" (2023)   \n",
              "2                          Фильм \"За Палыча!\" (2023)   \n",
              "3                     Фильм \"Тайны герцогини\" (2022)   \n",
              "4                  Фильм \"У людей так бывает\" (2023)   \n",
              "5            Фильм \"Американские преступники\" (2023)   \n",
              "6                                Фильм \"Эйми\" (2023)   \n",
              "7                   Фильм \"Ставок больше нет\" (2023)   \n",
              "8  Фильм \"Статистическая вероятность любви с перв...   \n",
              "9                     Фильм \"Пенсионный план\" (2023)   \n",
              "\n",
              "                                              Review  Rate           Real  \n",
              "0  \\r\\nРоссийские комедии зачастую оказываются ве...     3  отрицательный  \n",
              "1  \\r\\nКрутые боевики всегда привлекают внимание,...     4  положительный  \n",
              "2  \\r\\nЛюблю глянуть комедий, а если на ролях зая...     5  положительный  \n",
              "3  \\r\\nИногда у людей могут складываться странные...     4  положительный  \n",
              "4  \\r\\nЯ раньше никогда не смотрела кино, которое...     3  отрицательный  \n",
              "5  \\r\\nИногда случается так, что некоторым престу...     4  положительный  \n",
              "6  \\r\\nТема похищения и продажи людей всегда акту...     3  отрицательный  \n",
              "7  \\r\\nВсем давно известно, что увлечение азартны...     4  положительный  \n",
              "8  \\r\\nДумаю многие верят в то, что есть судьбоно...     4  положительный  \n",
              "9  \\r\\nКровные узы, безусловно, играют свою роль ...     3  отрицательный  "
            ]
          },
          "execution_count": 15,
          "metadata": {},
          "output_type": "execute_result"
        }
      ],
      "source": [
        "data_full.head(10)"
      ]
    },
    {
      "cell_type": "markdown",
      "metadata": {
        "id": "zpjyh6loY_Zj"
      },
      "source": [
        "*Review - текст отзыва, Rate - оценка по 5-ти балльной системе, Name - название фильма (эта колонка не нужна для анализа, ее было удобно создавать на этапе сбора данных, чтобы не запутаться).*"
      ]
    },
    {
      "cell_type": "markdown",
      "metadata": {
        "id": "h2ZjXKwhZBM0"
      },
      "source": [
        "Можно удалить отзывы с оценкой 3, т.к. невозможно достоверно подготовить исходный размеченный датасет, поделив отзывы с Rate = 3 на положительные/отрицательные"
      ]
    },
    {
      "cell_type": "code",
      "execution_count": 3,
      "metadata": {
        "id": "gz5cF2JiZEcS"
      },
      "outputs": [],
      "source": [
        "data_full = data_full[data_full.Rate != 3]"
      ]
    },
    {
      "cell_type": "code",
      "execution_count": 18,
      "metadata": {
        "colab": {
          "base_uri": "https://localhost:8080/",
          "height": 198
        },
        "id": "IHf31-yk45Um",
        "outputId": "deb2b271-371e-4cb6-85ac-cd5c6c67c87b"
      },
      "outputs": [
        {
          "name": "stderr",
          "output_type": "stream",
          "text": [
            "<ipython-input-18-197814b6922d>:1: FutureWarning: The default value of numeric_only in DataFrameGroupBy.sum is deprecated. In a future version, numeric_only will default to False. Either specify numeric_only or select only columns which should be valid for the function.\n",
            "  data_full.groupby('Real').sum()\n"
          ]
        },
        {
          "data": {
            "text/html": [
              "\n",
              "  <div id=\"df-08ddd2ed-cbd6-4a1e-8fb4-78ccfed178b9\" class=\"colab-df-container\">\n",
              "    <div>\n",
              "<style scoped>\n",
              "    .dataframe tbody tr th:only-of-type {\n",
              "        vertical-align: middle;\n",
              "    }\n",
              "\n",
              "    .dataframe tbody tr th {\n",
              "        vertical-align: top;\n",
              "    }\n",
              "\n",
              "    .dataframe thead th {\n",
              "        text-align: right;\n",
              "    }\n",
              "</style>\n",
              "<table border=\"1\" class=\"dataframe\">\n",
              "  <thead>\n",
              "    <tr style=\"text-align: right;\">\n",
              "      <th></th>\n",
              "      <th>Rate</th>\n",
              "    </tr>\n",
              "    <tr>\n",
              "      <th>Real</th>\n",
              "      <th></th>\n",
              "    </tr>\n",
              "  </thead>\n",
              "  <tbody>\n",
              "    <tr>\n",
              "      <th>отрицательный</th>\n",
              "      <td>564</td>\n",
              "    </tr>\n",
              "    <tr>\n",
              "      <th>положительный</th>\n",
              "      <td>10562</td>\n",
              "    </tr>\n",
              "  </tbody>\n",
              "</table>\n",
              "</div>\n",
              "    <div class=\"colab-df-buttons\">\n",
              "\n",
              "  <div class=\"colab-df-container\">\n",
              "    <button class=\"colab-df-convert\" onclick=\"convertToInteractive('df-08ddd2ed-cbd6-4a1e-8fb4-78ccfed178b9')\"\n",
              "            title=\"Convert this dataframe to an interactive table.\"\n",
              "            style=\"display:none;\">\n",
              "\n",
              "  <svg xmlns=\"http://www.w3.org/2000/svg\" height=\"24px\" viewBox=\"0 -960 960 960\">\n",
              "    <path d=\"M120-120v-720h720v720H120Zm60-500h600v-160H180v160Zm220 220h160v-160H400v160Zm0 220h160v-160H400v160ZM180-400h160v-160H180v160Zm440 0h160v-160H620v160ZM180-180h160v-160H180v160Zm440 0h160v-160H620v160Z\"/>\n",
              "  </svg>\n",
              "    </button>\n",
              "\n",
              "  <style>\n",
              "    .colab-df-container {\n",
              "      display:flex;\n",
              "      gap: 12px;\n",
              "    }\n",
              "\n",
              "    .colab-df-convert {\n",
              "      background-color: #E8F0FE;\n",
              "      border: none;\n",
              "      border-radius: 50%;\n",
              "      cursor: pointer;\n",
              "      display: none;\n",
              "      fill: #1967D2;\n",
              "      height: 32px;\n",
              "      padding: 0 0 0 0;\n",
              "      width: 32px;\n",
              "    }\n",
              "\n",
              "    .colab-df-convert:hover {\n",
              "      background-color: #E2EBFA;\n",
              "      box-shadow: 0px 1px 2px rgba(60, 64, 67, 0.3), 0px 1px 3px 1px rgba(60, 64, 67, 0.15);\n",
              "      fill: #174EA6;\n",
              "    }\n",
              "\n",
              "    .colab-df-buttons div {\n",
              "      margin-bottom: 4px;\n",
              "    }\n",
              "\n",
              "    [theme=dark] .colab-df-convert {\n",
              "      background-color: #3B4455;\n",
              "      fill: #D2E3FC;\n",
              "    }\n",
              "\n",
              "    [theme=dark] .colab-df-convert:hover {\n",
              "      background-color: #434B5C;\n",
              "      box-shadow: 0px 1px 3px 1px rgba(0, 0, 0, 0.15);\n",
              "      filter: drop-shadow(0px 1px 2px rgba(0, 0, 0, 0.3));\n",
              "      fill: #FFFFFF;\n",
              "    }\n",
              "  </style>\n",
              "\n",
              "    <script>\n",
              "      const buttonEl =\n",
              "        document.querySelector('#df-08ddd2ed-cbd6-4a1e-8fb4-78ccfed178b9 button.colab-df-convert');\n",
              "      buttonEl.style.display =\n",
              "        google.colab.kernel.accessAllowed ? 'block' : 'none';\n",
              "\n",
              "      async function convertToInteractive(key) {\n",
              "        const element = document.querySelector('#df-08ddd2ed-cbd6-4a1e-8fb4-78ccfed178b9');\n",
              "        const dataTable =\n",
              "          await google.colab.kernel.invokeFunction('convertToInteractive',\n",
              "                                                    [key], {});\n",
              "        if (!dataTable) return;\n",
              "\n",
              "        const docLinkHtml = 'Like what you see? Visit the ' +\n",
              "          '<a target=\"_blank\" href=https://colab.research.google.com/notebooks/data_table.ipynb>data table notebook</a>'\n",
              "          + ' to learn more about interactive tables.';\n",
              "        element.innerHTML = '';\n",
              "        dataTable['output_type'] = 'display_data';\n",
              "        await google.colab.output.renderOutput(dataTable, element);\n",
              "        const docLink = document.createElement('div');\n",
              "        docLink.innerHTML = docLinkHtml;\n",
              "        element.appendChild(docLink);\n",
              "      }\n",
              "    </script>\n",
              "  </div>\n",
              "\n",
              "\n",
              "<div id=\"df-66630077-df68-422a-81bd-3f93df60ccaf\">\n",
              "  <button class=\"colab-df-quickchart\" onclick=\"quickchart('df-66630077-df68-422a-81bd-3f93df60ccaf')\"\n",
              "            title=\"Suggest charts.\"\n",
              "            style=\"display:none;\">\n",
              "\n",
              "<svg xmlns=\"http://www.w3.org/2000/svg\" height=\"24px\"viewBox=\"0 0 24 24\"\n",
              "     width=\"24px\">\n",
              "    <g>\n",
              "        <path d=\"M19 3H5c-1.1 0-2 .9-2 2v14c0 1.1.9 2 2 2h14c1.1 0 2-.9 2-2V5c0-1.1-.9-2-2-2zM9 17H7v-7h2v7zm4 0h-2V7h2v10zm4 0h-2v-4h2v4z\"/>\n",
              "    </g>\n",
              "</svg>\n",
              "  </button>\n",
              "\n",
              "<style>\n",
              "  .colab-df-quickchart {\n",
              "      --bg-color: #E8F0FE;\n",
              "      --fill-color: #1967D2;\n",
              "      --hover-bg-color: #E2EBFA;\n",
              "      --hover-fill-color: #174EA6;\n",
              "      --disabled-fill-color: #AAA;\n",
              "      --disabled-bg-color: #DDD;\n",
              "  }\n",
              "\n",
              "  [theme=dark] .colab-df-quickchart {\n",
              "      --bg-color: #3B4455;\n",
              "      --fill-color: #D2E3FC;\n",
              "      --hover-bg-color: #434B5C;\n",
              "      --hover-fill-color: #FFFFFF;\n",
              "      --disabled-bg-color: #3B4455;\n",
              "      --disabled-fill-color: #666;\n",
              "  }\n",
              "\n",
              "  .colab-df-quickchart {\n",
              "    background-color: var(--bg-color);\n",
              "    border: none;\n",
              "    border-radius: 50%;\n",
              "    cursor: pointer;\n",
              "    display: none;\n",
              "    fill: var(--fill-color);\n",
              "    height: 32px;\n",
              "    padding: 0;\n",
              "    width: 32px;\n",
              "  }\n",
              "\n",
              "  .colab-df-quickchart:hover {\n",
              "    background-color: var(--hover-bg-color);\n",
              "    box-shadow: 0 1px 2px rgba(60, 64, 67, 0.3), 0 1px 3px 1px rgba(60, 64, 67, 0.15);\n",
              "    fill: var(--button-hover-fill-color);\n",
              "  }\n",
              "\n",
              "  .colab-df-quickchart-complete:disabled,\n",
              "  .colab-df-quickchart-complete:disabled:hover {\n",
              "    background-color: var(--disabled-bg-color);\n",
              "    fill: var(--disabled-fill-color);\n",
              "    box-shadow: none;\n",
              "  }\n",
              "\n",
              "  .colab-df-spinner {\n",
              "    border: 2px solid var(--fill-color);\n",
              "    border-color: transparent;\n",
              "    border-bottom-color: var(--fill-color);\n",
              "    animation:\n",
              "      spin 1s steps(1) infinite;\n",
              "  }\n",
              "\n",
              "  @keyframes spin {\n",
              "    0% {\n",
              "      border-color: transparent;\n",
              "      border-bottom-color: var(--fill-color);\n",
              "      border-left-color: var(--fill-color);\n",
              "    }\n",
              "    20% {\n",
              "      border-color: transparent;\n",
              "      border-left-color: var(--fill-color);\n",
              "      border-top-color: var(--fill-color);\n",
              "    }\n",
              "    30% {\n",
              "      border-color: transparent;\n",
              "      border-left-color: var(--fill-color);\n",
              "      border-top-color: var(--fill-color);\n",
              "      border-right-color: var(--fill-color);\n",
              "    }\n",
              "    40% {\n",
              "      border-color: transparent;\n",
              "      border-right-color: var(--fill-color);\n",
              "      border-top-color: var(--fill-color);\n",
              "    }\n",
              "    60% {\n",
              "      border-color: transparent;\n",
              "      border-right-color: var(--fill-color);\n",
              "    }\n",
              "    80% {\n",
              "      border-color: transparent;\n",
              "      border-right-color: var(--fill-color);\n",
              "      border-bottom-color: var(--fill-color);\n",
              "    }\n",
              "    90% {\n",
              "      border-color: transparent;\n",
              "      border-bottom-color: var(--fill-color);\n",
              "    }\n",
              "  }\n",
              "</style>\n",
              "\n",
              "  <script>\n",
              "    async function quickchart(key) {\n",
              "      const quickchartButtonEl =\n",
              "        document.querySelector('#' + key + ' button');\n",
              "      quickchartButtonEl.disabled = true;  // To prevent multiple clicks.\n",
              "      quickchartButtonEl.classList.add('colab-df-spinner');\n",
              "      try {\n",
              "        const charts = await google.colab.kernel.invokeFunction(\n",
              "            'suggestCharts', [key], {});\n",
              "      } catch (error) {\n",
              "        console.error('Error during call to suggestCharts:', error);\n",
              "      }\n",
              "      quickchartButtonEl.classList.remove('colab-df-spinner');\n",
              "      quickchartButtonEl.classList.add('colab-df-quickchart-complete');\n",
              "    }\n",
              "    (() => {\n",
              "      let quickchartButtonEl =\n",
              "        document.querySelector('#df-66630077-df68-422a-81bd-3f93df60ccaf button');\n",
              "      quickchartButtonEl.style.display =\n",
              "        google.colab.kernel.accessAllowed ? 'block' : 'none';\n",
              "    })();\n",
              "  </script>\n",
              "</div>\n",
              "    </div>\n",
              "  </div>\n"
            ],
            "text/plain": [
              "                Rate\n",
              "Real                \n",
              "отрицательный    564\n",
              "положительный  10562"
            ]
          },
          "execution_count": 18,
          "metadata": {},
          "output_type": "execute_result"
        }
      ],
      "source": [
        "data_full.groupby('Real').sum()"
      ]
    },
    {
      "cell_type": "markdown",
      "metadata": {
        "id": "055ghYaw9D3y"
      },
      "source": [
        "Для устранения диспропорции выборки можно сделать следующее:"
      ]
    },
    {
      "cell_type": "code",
      "execution_count": 4,
      "metadata": {
        "id": "dlg6ZcoG9PAh"
      },
      "outputs": [],
      "source": [
        "pos_df = data_full[data_full['Real'] == 'положительный'].sample(n=500)\n",
        "neg_df = data_full[data_full['Real'] == 'отрицательный']\n",
        "data_sample = pd.concat([pos_df, neg_df])"
      ]
    },
    {
      "cell_type": "markdown",
      "metadata": {
        "id": "M6Z-9qMRZKkz"
      },
      "source": [
        "### **2. Препроцессинг**"
      ]
    },
    {
      "cell_type": "markdown",
      "metadata": {
        "id": "hXxy-y8eZLo6"
      },
      "source": [
        "На этом этапе проводим нормализацию данных, а именно:\n",
        "- токенизируем предложения отзывов (с помощью библиотеки NLTK)\n",
        "- приводим слова к нижнему регистру\n",
        "- приводим слова к начальной форме (с помощью библиотеки pymorphy2)"
      ]
    },
    {
      "cell_type": "code",
      "execution_count": 5,
      "metadata": {
        "colab": {
          "base_uri": "https://localhost:8080/"
        },
        "id": "x6pOGlqVZPAH",
        "outputId": "abdb40c7-f103-411e-e7b2-6c9e60292cd7"
      },
      "outputs": [
        {
          "name": "stderr",
          "output_type": "stream",
          "text": [
            "C:\\Users\\602\\AppData\\Local\\Packages\\PythonSoftwareFoundation.Python.3.9_qbz5n2kfra8p0\\LocalCache\\local-packages\\Python39\\site-packages\\scipy\\__init__.py:146: UserWarning: A NumPy version >=1.16.5 and <1.23.0 is required for this version of SciPy (detected version 1.24.3\n",
            "  warnings.warn(f\"A NumPy version >={np_minversion} and <{np_maxversion}\"\n",
            "[nltk_data] Downloading package stopwords to\n",
            "[nltk_data]     C:\\Users\\602\\AppData\\Roaming\\nltk_data...\n",
            "[nltk_data]   Package stopwords is already up-to-date!\n",
            "[nltk_data] Downloading package punkt to\n",
            "[nltk_data]     C:\\Users\\602\\AppData\\Roaming\\nltk_data...\n",
            "[nltk_data]   Package punkt is already up-to-date!\n"
          ]
        }
      ],
      "source": [
        "import nltk\n",
        "from nltk.corpus import stopwords\n",
        "nltk.download('stopwords')\n",
        "nltk.download('punkt')\n",
        "stops = set(stopwords.words('russian'))\n",
        "from nltk.tokenize import word_tokenize\n",
        "from string import punctuation\n",
        "tokenizer = nltk.data.load('tokenizers/punkt/russian.pickle')\n",
        "from pymorphy2 import MorphAnalyzer\n",
        "morph = MorphAnalyzer()\n",
        "\n",
        "def get_clean(text):\n",
        "    clean_text = nltk.word_tokenize(text)\n",
        "    lemmas = []\n",
        "    for word in clean_text:\n",
        "        if word not in punctuation and word.isalpha():\n",
        "          word = word.lower()\n",
        "          if morph.parse(word)[0].normal_form:\n",
        "              lemmas.append(morph.parse(word)[0].normal_form)\n",
        "    return lemmas"
      ]
    },
    {
      "cell_type": "code",
      "execution_count": 9,
      "metadata": {
        "id": "wOiZ--wuaMn1"
      },
      "outputs": [],
      "source": [
        "data_sample['Review'] = data_sample['Review'].apply(get_clean)"
      ]
    },
    {
      "cell_type": "code",
      "execution_count": 10,
      "metadata": {
        "colab": {
          "base_uri": "https://localhost:8080/",
          "height": 423
        },
        "id": "FCtLBXTM3H5F",
        "outputId": "c6d391d0-c968-48f5-c812-4323aa92d278"
      },
      "outputs": [
        {
          "data": {
            "text/html": [
              "<div>\n",
              "<style scoped>\n",
              "    .dataframe tbody tr th:only-of-type {\n",
              "        vertical-align: middle;\n",
              "    }\n",
              "\n",
              "    .dataframe tbody tr th {\n",
              "        vertical-align: top;\n",
              "    }\n",
              "\n",
              "    .dataframe thead th {\n",
              "        text-align: right;\n",
              "    }\n",
              "</style>\n",
              "<table border=\"1\" class=\"dataframe\">\n",
              "  <thead>\n",
              "    <tr style=\"text-align: right;\">\n",
              "      <th></th>\n",
              "      <th>Name</th>\n",
              "      <th>Review</th>\n",
              "      <th>Rate</th>\n",
              "      <th>Real</th>\n",
              "    </tr>\n",
              "  </thead>\n",
              "  <tbody>\n",
              "    <tr>\n",
              "      <th>1509</th>\n",
              "      <td>Фильм \"Король придурков\" (1981)</td>\n",
              "      <td>[забавный, старый, комедия, режиссёр, клод, ко...</td>\n",
              "      <td>4</td>\n",
              "      <td>положительный</td>\n",
              "    </tr>\n",
              "    <tr>\n",
              "      <th>1400</th>\n",
              "      <td>Фильм \"Свингеры\" (2021)</td>\n",
              "      <td>[приветствовать, весь, заглянуть, в, этот, отз...</td>\n",
              "      <td>4</td>\n",
              "      <td>положительный</td>\n",
              "    </tr>\n",
              "    <tr>\n",
              "      <th>887</th>\n",
              "      <td>Фильм \"Белый медведь\" (1998)</td>\n",
              "      <td>[фильм, белый, медведь, это, супер, ретро, бое...</td>\n",
              "      <td>5</td>\n",
              "      <td>положительный</td>\n",
              "    </tr>\n",
              "    <tr>\n",
              "      <th>1203</th>\n",
              "      <td>Фильм \"Блестяще\" (2017)</td>\n",
              "      <td>[чудесный, комедийный, драма, иван, атталя, бл...</td>\n",
              "      <td>5</td>\n",
              "      <td>положительный</td>\n",
              "    </tr>\n",
              "    <tr>\n",
              "      <th>1949</th>\n",
              "      <td>Фильм \"Фарго\" (1995)</td>\n",
              "      <td>[фарго, можно, смело, назвать, культовый, кино...</td>\n",
              "      <td>5</td>\n",
              "      <td>положительный</td>\n",
              "    </tr>\n",
              "    <tr>\n",
              "      <th>...</th>\n",
              "      <td>...</td>\n",
              "      <td>...</td>\n",
              "      <td>...</td>\n",
              "      <td>...</td>\n",
              "    </tr>\n",
              "    <tr>\n",
              "      <th>3336</th>\n",
              "      <td>Фильм \"Доктор Сон\" (2019)</td>\n",
              "      <td>[фильм, доктор, сон, снятой, по, одноимённый, ...</td>\n",
              "      <td>1</td>\n",
              "      <td>отрицательный</td>\n",
              "    </tr>\n",
              "    <tr>\n",
              "      <th>3347</th>\n",
              "      <td>Фильм \"Они\" (2019)</td>\n",
              "      <td>[добрый, время, сутки, сюжет, фильм, они, разв...</td>\n",
              "      <td>2</td>\n",
              "      <td>отрицательный</td>\n",
              "    </tr>\n",
              "    <tr>\n",
              "      <th>3363</th>\n",
              "      <td>Фильм \"Терминатор: Тёмные судьбы\" (2019)</td>\n",
              "      <td>[в, последний, раз, я, писать, отзыв, на, новы...</td>\n",
              "      <td>2</td>\n",
              "      <td>отрицательный</td>\n",
              "    </tr>\n",
              "    <tr>\n",
              "      <th>3366</th>\n",
              "      <td>Фильм \"Терминатор: Тёмные судьбы\" (2019)</td>\n",
              "      <td>[я, сожалеть, о, потратить, деньга, а, самый, ...</td>\n",
              "      <td>2</td>\n",
              "      <td>отрицательный</td>\n",
              "    </tr>\n",
              "    <tr>\n",
              "      <th>3368</th>\n",
              "      <td>Фильм \"Терминатор: Тёмные судьбы\" (2019)</td>\n",
              "      <td>[посмотреть, новый, часть, некогда, любимый, ф...</td>\n",
              "      <td>2</td>\n",
              "      <td>отрицательный</td>\n",
              "    </tr>\n",
              "  </tbody>\n",
              "</table>\n",
              "<p>831 rows × 4 columns</p>\n",
              "</div>"
            ],
            "text/plain": [
              "                                          Name  \\\n",
              "1509           Фильм \"Король придурков\" (1981)   \n",
              "1400                   Фильм \"Свингеры\" (2021)   \n",
              "887               Фильм \"Белый медведь\" (1998)   \n",
              "1203                   Фильм \"Блестяще\" (2017)   \n",
              "1949                      Фильм \"Фарго\" (1995)   \n",
              "...                                        ...   \n",
              "3336                 Фильм \"Доктор Сон\" (2019)   \n",
              "3347                        Фильм \"Они\" (2019)   \n",
              "3363  Фильм \"Терминатор: Тёмные судьбы\" (2019)   \n",
              "3366  Фильм \"Терминатор: Тёмные судьбы\" (2019)   \n",
              "3368  Фильм \"Терминатор: Тёмные судьбы\" (2019)   \n",
              "\n",
              "                                                 Review  Rate           Real  \n",
              "1509  [забавный, старый, комедия, режиссёр, клод, ко...     4  положительный  \n",
              "1400  [приветствовать, весь, заглянуть, в, этот, отз...     4  положительный  \n",
              "887   [фильм, белый, медведь, это, супер, ретро, бое...     5  положительный  \n",
              "1203  [чудесный, комедийный, драма, иван, атталя, бл...     5  положительный  \n",
              "1949  [фарго, можно, смело, назвать, культовый, кино...     5  положительный  \n",
              "...                                                 ...   ...            ...  \n",
              "3336  [фильм, доктор, сон, снятой, по, одноимённый, ...     1  отрицательный  \n",
              "3347  [добрый, время, сутки, сюжет, фильм, они, разв...     2  отрицательный  \n",
              "3363  [в, последний, раз, я, писать, отзыв, на, новы...     2  отрицательный  \n",
              "3366  [я, сожалеть, о, потратить, деньга, а, самый, ...     2  отрицательный  \n",
              "3368  [посмотреть, новый, часть, некогда, любимый, ф...     2  отрицательный  \n",
              "\n",
              "[831 rows x 4 columns]"
            ]
          },
          "execution_count": 10,
          "metadata": {},
          "output_type": "execute_result"
        }
      ],
      "source": [
        "data_sample"
      ]
    },
    {
      "cell_type": "markdown",
      "metadata": {
        "id": "pM2WFFduaQ5e"
      },
      "source": [
        "### **3. Тональный словарь**"
      ]
    },
    {
      "cell_type": "markdown",
      "metadata": {
        "id": "L55JmkP7aRmN"
      },
      "source": [
        "Составляем 2 множества:\n",
        "- слова, которые встречаются только в положительных отзывах\n",
        "- слова, которые встречаются только в отрицательных отзывах"
      ]
    },
    {
      "cell_type": "code",
      "execution_count": 11,
      "metadata": {
        "id": "XqlGc7VgaT2M"
      },
      "outputs": [],
      "source": [
        "positive = data_sample[data_sample['Rate'] >= 4]['Review'].tolist()\n",
        "negative = data_sample[data_sample['Rate'] < 4]['Review'].tolist()\n",
        "positive = [element for each_list in positive for element in each_list]\n",
        "negative = [element for each_list in negative for element in each_list]\n",
        "only_positive = [x for x in positive if x not in negative]\n",
        "only_negative = [x for x in negative if x not in positive]"
      ]
    },
    {
      "cell_type": "markdown",
      "metadata": {
        "id": "CNv0tf8mapGO"
      },
      "source": [
        "Также удаляем слова, которые встречаются 1-2 раза, поскольку их попадание в множество может быть случайным."
      ]
    },
    {
      "cell_type": "code",
      "execution_count": 12,
      "metadata": {
        "id": "oh0cwNk1aqRZ"
      },
      "outputs": [],
      "source": [
        "only_positive_freq = []\n",
        "for word in only_positive:\n",
        "  if only_positive.count(word) > 2:\n",
        "    only_positive_freq.append(word)\n",
        "\n",
        "only_negative_freq = []\n",
        "for word in only_negative:\n",
        "  if only_negative.count(word) > 2:\n",
        "    only_negative_freq.append(word)\n",
        "\n",
        "only_positive_freq = set(only_positive_freq)\n",
        "only_negative_freq = set(only_negative_freq)"
      ]
    },
    {
      "cell_type": "code",
      "execution_count": 13,
      "metadata": {
        "colab": {
          "base_uri": "https://localhost:8080/"
        },
        "id": "giGSBY0parPX",
        "outputId": "4b84cc4a-7375-4126-a74e-8f7dc816319b"
      },
      "outputs": [
        {
          "data": {
            "text/plain": [
              "[666, 274]"
            ]
          },
          "execution_count": 13,
          "metadata": {},
          "output_type": "execute_result"
        }
      ],
      "source": [
        "[len(only_positive_freq), len(only_negative_freq)]"
      ]
    },
    {
      "cell_type": "markdown",
      "metadata": {
        "id": "OesoajcxRSLv"
      },
      "source": [
        "В словаре наблюдается диспропорция, поэтому максимальное кол-во слов, характеризующих только отрицательные отзывы, не превышает 350 (при около 300 примерах, однако в таком случае выборка получается слишком маленькой, а словарь — непоказательным: мы пытаемся отсечь пересечение двух маленьких выборок, чем больше выборка, тем больше пересечений, тем больше вероятность того, что слово не попадет в словарь. Если у нас слишком много слов в словаре, велика вероятность того, что эти слова попали туда случайно и могут встретиться в полярном отзыве, просто на маленькой выборке алгоритм этого не мог заметить) --> при пропорциональной выборке оптимальным представляется кол-во примеров в 1к (про непропорциональную см. п. 5.2)."
      ]
    },
    {
      "cell_type": "markdown",
      "metadata": {
        "id": "BZbjIR4HbB3_"
      },
      "source": [
        "### **4. Анализ отзывов**"
      ]
    },
    {
      "cell_type": "code",
      "execution_count": 14,
      "metadata": {
        "id": "RSHW5ZoHbCiO"
      },
      "outputs": [],
      "source": [
        "def sentiment(text):\n",
        "  positive_count = int()\n",
        "  negative_count = int()\n",
        "  for lemma in text:\n",
        "    if lemma in only_positive_freq:\n",
        "      positive_count += 1\n",
        "    elif lemma in only_negative_freq:\n",
        "      negative_count += 1\n",
        "  if positive_count > negative_count:\n",
        "    return 'положительный'\n",
        "  elif positive_count < negative_count:\n",
        "    return 'отрицательный'\n",
        "  else:\n",
        "    return 'нейтральный'"
      ]
    },
    {
      "cell_type": "markdown",
      "metadata": {
        "id": "umsokgxVbWtk"
      },
      "source": [
        "Теперь посчитаем точность алгоритма для рандомных выборок одного размера:"
      ]
    },
    {
      "cell_type": "markdown",
      "metadata": {
        "id": "OAZ-RmJ2QOl8"
      },
      "source": [
        "Пример 1:"
      ]
    },
    {
      "cell_type": "code",
      "execution_count": 16,
      "metadata": {
        "colab": {
          "base_uri": "https://localhost:8080/"
        },
        "id": "foGBu89ZbXHd",
        "outputId": "cf272443-cc36-4fd5-a434-4d8d1330fdb7"
      },
      "outputs": [
        {
          "name": "stdout",
          "output_type": "stream",
          "text": [
            "Верно: 454 Неверно: 76 Процент точности: 85.6604\n"
          ]
        }
      ],
      "source": [
        "data_sample = data.sample(frac=0.2)\n",
        "data_sample['Estimate'] = data_sample['Review'].apply(sentiment)\n",
        "#добавим разметку на основе звезд, присужденных каждому отзыву пользователем\n",
        "data_sample['Real'] = data_sample['Rate'].apply(lambda x: 'положительный' if x > 3 else 'отрицательный')\n",
        "\n",
        "stat = {'неверно': 0, 'верно': 0}\n",
        "for index, row in data_sample.iterrows():\n",
        "    if row['Estimate'] != row['Real']:\n",
        "      stat['неверно'] += 1\n",
        "    else:\n",
        "      stat['верно'] += 1\n",
        "\n",
        "print('Верно:', stat['верно'], 'Неверно:', stat['неверно'], 'Процент точности:', round(stat['верно']/(stat['верно']+stat['неверно'])*100, 4))"
      ]
    },
    {
      "cell_type": "markdown",
      "metadata": {
        "id": "KQihXiIkQNVh"
      },
      "source": [
        "Пример 2:"
      ]
    },
    {
      "cell_type": "code",
      "execution_count": 19,
      "metadata": {
        "colab": {
          "base_uri": "https://localhost:8080/"
        },
        "id": "5vnMT0JUQJI8",
        "outputId": "6294d5d4-5018-4ebc-9f50-50343257dc64"
      },
      "outputs": [
        {
          "name": "stdout",
          "output_type": "stream",
          "text": [
            "Верно: 440 Неверно: 90 Процент точности: 83.0189\n"
          ]
        }
      ],
      "source": [
        "data_sample = data.sample(frac=0.2)\n",
        "data_sample['Estimate'] = data_sample['Review'].apply(sentiment)\n",
        "#добавим разметку на основе звезд, присужденных каждому отзыву пользователем\n",
        "data_sample['Real'] = data_sample['Rate'].apply(lambda x: 'положительный' if x > 3 else 'отрицательный')\n",
        "\n",
        "stat = {'неверно': 0, 'верно': 0}\n",
        "for index, row in data_sample.iterrows():\n",
        "    if row['Estimate'] != row['Real']:\n",
        "      stat['неверно'] += 1\n",
        "    else:\n",
        "      stat['верно'] += 1\n",
        "\n",
        "print('Верно:', stat['верно'], 'Неверно:', stat['неверно'], 'Процент точности:', round(stat['верно']/(stat['верно']+stat['неверно'])*100, 4))"
      ]
    },
    {
      "cell_type": "markdown",
      "metadata": {
        "id": "06_Dr3gp-CwK"
      },
      "source": [
        "--> точность по-разному проявляется на разных выборках, варьируется от 75 до 85% (также учитывались выборки из бОльшего числа примеров, точность примерно одинаковая)"
      ]
    },
    {
      "cell_type": "markdown",
      "metadata": {
        "id": "yx1tb2aP9VNo"
      },
      "source": [
        "А если выборка пропорциональна?"
      ]
    },
    {
      "cell_type": "code",
      "execution_count": 20,
      "metadata": {
        "colab": {
          "base_uri": "https://localhost:8080/"
        },
        "id": "zen1PhJK9X4k",
        "outputId": "298e8550-da71-4b18-ccaf-6e33921295e1"
      },
      "outputs": [
        {
          "name": "stdout",
          "output_type": "stream",
          "text": [
            "Верно: 415 Неверно: 85 Процент точности: 83.0\n"
          ]
        }
      ],
      "source": [
        "pos_df = data[data['Real'] == 'положительный'].sample(n=250)\n",
        "neg_df = data[data['Real'] == 'отрицательный'].sample(n=250)\n",
        "data_sample = pd.concat([pos_df, neg_df])\n",
        "data_sample['Estimate'] = data_sample['Review'].apply(sentiment)\n",
        "#добавим разметку на основе звезд, присужденных каждому отзыву пользователем\n",
        "data_sample['Real'] = data_sample['Rate'].apply(lambda x: 'положительный' if x > 3 else 'отрицательный')\n",
        "\n",
        "stat = {'неверно': 0, 'верно': 0}\n",
        "for index, row in data_sample.iterrows():\n",
        "    if row['Estimate'] != row['Real']:\n",
        "      stat['неверно'] += 1\n",
        "    else:\n",
        "      stat['верно'] += 1\n",
        "\n",
        "print('Верно:', stat['верно'], 'Неверно:', stat['неверно'], 'Процент точности:', round(stat['верно']/(stat['верно']+stat['неверно'])*100, 4))"
      ]
    },
    {
      "cell_type": "markdown",
      "metadata": {
        "id": "NmvxQqwocRYq"
      },
      "source": [
        "### **5. Улучшение алгоритма**"
      ]
    },
    {
      "cell_type": "markdown",
      "metadata": {
        "id": "DIA4Psc7cTg0"
      },
      "source": [
        "*Что я тестировала для повышения точности алгоритма:*"
      ]
    },
    {
      "cell_type": "markdown",
      "metadata": {
        "id": "7CfA44HecVu-"
      },
      "source": [
        "**1) Использование модели классификации**"
      ]
    },
    {
      "cell_type": "markdown",
      "metadata": {
        "id": "W36D8UcNcjhb"
      },
      "source": [
        "Несмотря на то что мы избавились от возможно нейтральных отзывов с оценкой 3, алгоритм вcё же не может оценить некоторые отзывы и определяет их как \"нейтральные\" (хотя спорные отзывы, кажется, должны отсутствовать). Можно попробовать создать ***модель классификации***, которая бы сама разбиралась бы с \"нейтральными\" отзывами"
      ]
    },
    {
      "cell_type": "code",
      "execution_count": 21,
      "metadata": {
        "colab": {
          "base_uri": "https://localhost:8080/"
        },
        "id": "_snDTzCRcXxl",
        "outputId": "aa5a1ebd-92e6-41cd-8c2c-684fc83a3548"
      },
      "outputs": [
        {
          "data": {
            "text/plain": [
              "0.8924528301886793"
            ]
          },
          "execution_count": 21,
          "metadata": {},
          "output_type": "execute_result"
        }
      ],
      "source": [
        "from sklearn.linear_model import LogisticRegression\n",
        "from sklearn.metrics import accuracy_score\n",
        "from sklearn.model_selection import train_test_split\n",
        "from sklearn.feature_extraction.text import TfidfVectorizer\n",
        "\n",
        "data2 = data.copy()\n",
        "data2['Review'] = data2['Review'].apply(lambda x: ' '.join(x))\n",
        "d_train, d_test, y_train, y_test = train_test_split(data2['Review'], data2['Real'], train_size=0.8, random_state=0) #обучаем модель на около 2к примерах\n",
        "vec = TfidfVectorizer(binary=True, max_features=1000)\n",
        "vec.fit_transform(d_train)\n",
        "X_train = vec.transform(d_train).astype(int)\n",
        "X_test = vec.transform(d_test).astype(int)\n",
        "Y_train = vec.transform(y_train).astype(int)\n",
        "Y_test = vec.transform(y_test).astype(int)\n",
        "\n",
        "model = LogisticRegression()\n",
        "model.fit(X_train, y_train)\n",
        "y_pred = model.predict(X_test)\n",
        "accuracy_score(y_test, y_pred)"
      ]
    },
    {
      "cell_type": "markdown",
      "metadata": {},
      "source": [
        "Пример 1:"
      ]
    },
    {
      "cell_type": "code",
      "execution_count": 23,
      "metadata": {
        "colab": {
          "base_uri": "https://localhost:8080/"
        },
        "id": "8qRUMAsSd0qt",
        "outputId": "4cd24fd9-b22c-411e-9537-1218ec52edcd"
      },
      "outputs": [
        {
          "data": {
            "text/plain": [
              "0.9433962264150944"
            ]
          },
          "execution_count": 23,
          "metadata": {},
          "output_type": "execute_result"
        }
      ],
      "source": [
        "data_test = data.sample(frac=0.2)\n",
        "data_test['Estimate'] = data_test['Review'].apply(sentiment)\n",
        "data_test['Review'] = data_test['Review'].apply(lambda x: ' '.join(x))\n",
        "\n",
        "for index, row in data_test.iterrows():\n",
        "    if row['Estimate'] == 'нейтральный':\n",
        "        data_test.at[index, 'Estimate'] = model.predict(vec.transform([row['Review']]).astype(int))[0]\n",
        "\n",
        "y_pred = vec.transform(data_test['Estimate']).astype(int)\n",
        "y_test = vec.transform(data_test['Real']).astype(int)\n",
        "accuracy_score(y_test, y_pred)"
      ]
    },
    {
      "cell_type": "markdown",
      "metadata": {
        "id": "qb32EuyuAENf"
      },
      "source": [
        "Пример 2 (Пропорциональная выборка):"
      ]
    },
    {
      "cell_type": "code",
      "execution_count": 28,
      "metadata": {
        "colab": {
          "base_uri": "https://localhost:8080/"
        },
        "id": "m33kok7E-5_4",
        "outputId": "9fdbf7c7-7909-4752-fa6e-5345f52cd0b4"
      },
      "outputs": [
        {
          "data": {
            "text/plain": [
              "0.912"
            ]
          },
          "execution_count": 28,
          "metadata": {},
          "output_type": "execute_result"
        }
      ],
      "source": [
        "pos_df = data[data['Real'] == 'положительный'].sample(n=250)\n",
        "neg_df = data[data['Real'] == 'отрицательный'].sample(n=250)\n",
        "data_test = pd.concat([pos_df, neg_df])\n",
        "data_test['Estimate'] = data_test['Review'].apply(sentiment)\n",
        "data_test['Review'] = data_test['Review'].apply(lambda x: ' '.join(x))\n",
        "\n",
        "for index, row in data_test.iterrows():\n",
        "    if row['Estimate'] == 'нейтральный':\n",
        "        data_test.at[index, 'Estimate'] = model.predict(vec.transform([row['Review']]).astype(int))[0]\n",
        "\n",
        "y_pred = vec.transform(data_test['Estimate']).astype(int)\n",
        "y_test = vec.transform(data_test['Real']).astype(int)\n",
        "accuracy_score(y_test, y_pred)"
      ]
    },
    {
      "cell_type": "markdown",
      "metadata": {
        "id": "jvdYwJ1MeIKp"
      },
      "source": [
        "Также можно пробовать уже готовые модели из библиотек. Например, *TextBlob*:"
      ]
    },
    {
      "cell_type": "code",
      "execution_count": 29,
      "metadata": {
        "colab": {
          "base_uri": "https://localhost:8080/"
        },
        "id": "bS7UbtxIeO_O",
        "outputId": "a58f969a-5e42-417e-b8c8-c551819f2d52"
      },
      "outputs": [
        {
          "name": "stderr",
          "output_type": "stream",
          "text": [
            "[nltk_data] Downloading package brown to\n",
            "[nltk_data]     C:\\Users\\602\\AppData\\Roaming\\nltk_data...\n",
            "[nltk_data]   Package brown is already up-to-date!\n"
          ]
        }
      ],
      "source": [
        "from textblob import TextBlob\n",
        "from textblob.sentiments import NaiveBayesAnalyzer\n",
        "nltk.download('brown')\n",
        "\n",
        "def neutral(text):\n",
        "    positive_count = int()\n",
        "    negative_count = int()\n",
        "    text_blob_object = TextBlob(text)\n",
        "    for noun_phrase in text_blob_object.noun_phrases:\n",
        "        if (TextBlob(noun_phrase).sentiment[0]) < 0:\n",
        "          negative_count += 1\n",
        "        elif (TextBlob(noun_phrase).sentiment[0]) > 0.5:\n",
        "          positive_count += 1\n",
        "    if positive_count > negative_count:\n",
        "      return 'положительный'\n",
        "    elif positive_count < negative_count:\n",
        "      return 'отрицательный'\n",
        "    else:\n",
        "      return 'нейтральный'"
      ]
    },
    {
      "cell_type": "markdown",
      "metadata": {
        "id": "VlVbKRc_eSJN"
      },
      "source": [
        "В этом примере TextBlob выделяет именные группы, после чего определяется тональность каждой из них."
      ]
    },
    {
      "cell_type": "code",
      "execution_count": 30,
      "metadata": {
        "colab": {
          "base_uri": "https://localhost:8080/"
        },
        "id": "3sw3oCsEej4X",
        "outputId": "f2b367f9-a4ae-4335-b59d-9f44b92b04cf"
      },
      "outputs": [
        {
          "name": "stdout",
          "output_type": "stream",
          "text": [
            "Верно: 449 Неверно: 81 Процент точности: 84.72\n"
          ]
        }
      ],
      "source": [
        "data3 = data.sample(frac=0.2)\n",
        "data3['Estimate'] = data3['Review'].apply(sentiment)\n",
        "data3['Review'] = data3['Review'].apply(lambda x: ' '.join(x))\n",
        "for index, row in data3.iterrows():\n",
        "    if row['Estimate'] == 'нейтральный':\n",
        "        data3.at[index, 'Estimate'] = neutral(row['Review'])\n",
        "\n",
        "stat3 = {'неверно': 0, 'верно': 0}\n",
        "for index, row in data3.iterrows():\n",
        "    if row['Estimate'] != row['Real']:\n",
        "      stat3['неверно'] += 1\n",
        "    else:\n",
        "      stat3['верно'] += 1\n",
        "\n",
        "print('Верно:', stat3['верно'], 'Неверно:', stat3['неверно'], 'Процент точности:', round(stat3['верно']/(stat3['верно']+stat3['неверно'])*100, 2))"
      ]
    },
    {
      "cell_type": "markdown",
      "metadata": {
        "id": "WAzNaNPjQqiu"
      },
      "source": [
        "Однако этот вариант практически не меняет точность"
      ]
    },
    {
      "cell_type": "markdown",
      "metadata": {
        "id": "ftbtXCMXerbo"
      },
      "source": [
        "**2) Расширение тонального словаря путем расширения выборки**"
      ]
    },
    {
      "cell_type": "markdown",
      "metadata": {
        "id": "k6zhLFMYewmW"
      },
      "source": [
        "Полная выборка состоит из около 3.3к примеров, поэтому попробуемм обработать весь датасет:"
      ]
    },
    {
      "cell_type": "code",
      "execution_count": null,
      "metadata": {
        "id": "BmViRAA4ethg"
      },
      "outputs": [],
      "source": [
        "data4 = data.copy()\n",
        "positive = data4[data4['Rate'] >= 4]['Review'].tolist()\n",
        "negative = data4[data4['Rate'] < 4]['Review'].tolist()\n",
        "positive = [element for each_list in positive for element in each_list]\n",
        "negative = [element for each_list in negative for element in each_list]\n",
        "only_positive = [x for x in positive if x not in negative]\n",
        "only_negative = [x for x in negative if x not in positive]"
      ]
    },
    {
      "cell_type": "code",
      "execution_count": 83,
      "metadata": {
        "id": "bup7WDrqi7N9"
      },
      "outputs": [],
      "source": [
        "only_positive_freq = []\n",
        "for word in only_positive:\n",
        "  if only_positive.count(word) > 2:\n",
        "    only_positive_freq.append(word)\n",
        "\n",
        "only_negative_freq = []\n",
        "for word in only_negative:\n",
        "  if only_negative.count(word) > 2:\n",
        "    only_negative_freq.append(word)\n",
        "\n",
        "only_positive_freq = set(only_positive_freq)\n",
        "only_negative_freq = set(only_negative_freq)"
      ]
    },
    {
      "cell_type": "code",
      "execution_count": 84,
      "metadata": {
        "colab": {
          "base_uri": "https://localhost:8080/"
        },
        "id": "-ygbf9i1i-zA",
        "outputId": "8979a0b3-beab-4556-deb5-0ff056dabe0a"
      },
      "outputs": [
        {
          "data": {
            "text/plain": [
              "[3975, 62]"
            ]
          },
          "execution_count": 84,
          "metadata": {},
          "output_type": "execute_result"
        }
      ],
      "source": [
        "[len(only_positive_freq), len(only_negative_freq)]"
      ]
    },
    {
      "cell_type": "markdown",
      "metadata": {
        "id": "b7AVH1-MAgaq"
      },
      "source": [
        "Опять же наблюдается диспропорция, причем чем больше кол-во примеров, тем больше перекос в сторону положительных отзывов (поскольку увеличивается непосредственно кол-во положительных отзывов). В дальнейшем эту ситуацию можно будет исправить добавлением бОльшего количества данных с отрицательной окраской (на сайте, с которого были спарсены все имеющиеся там отзывы на фильмы, к сожалению, наблюдается перевес в сторону положительных отзывов)."
      ]
    },
    {
      "cell_type": "code",
      "execution_count": 85,
      "metadata": {
        "colab": {
          "base_uri": "https://localhost:8080/"
        },
        "id": "7RmBtjcKxOIK",
        "outputId": "2780ac44-c666-48f3-9757-28e2051cfe71"
      },
      "outputs": [
        {
          "name": "stdout",
          "output_type": "stream",
          "text": [
            "Верно: 726 Неверно: 68 Процент точности: 91.4358\n"
          ]
        }
      ],
      "source": [
        "data4 = data.sample(frac=0.3)\n",
        "data4['Estimate'] = data4['Review'].apply(sentiment)\n",
        "data4['Real'] = data4['Rate'].apply(lambda x: 'положительный' if x > 3 else 'отрицательный')\n",
        "\n",
        "stat4 = {'неверно': 0, 'верно': 0}\n",
        "for index, row in data4.iterrows():\n",
        "    if row['Estimate'] != row['Real']:\n",
        "      stat4['неверно'] += 1\n",
        "    else:\n",
        "      stat4['верно'] += 1\n",
        "\n",
        "print('Верно:', stat4['верно'], 'Неверно:', stat4['неверно'], 'Процент точности:', round(stat4['верно']/(stat4['верно']+stat4['неверно'])*100, 4))\n"
      ]
    },
    {
      "cell_type": "markdown",
      "metadata": {
        "id": "A5Qm7qL1BLlG"
      },
      "source": [
        "Пропорциональная выборка:"
      ]
    },
    {
      "cell_type": "code",
      "execution_count": 91,
      "metadata": {
        "colab": {
          "base_uri": "https://localhost:8080/"
        },
        "id": "1ivnk_cVA957",
        "outputId": "96ed6379-28d1-4b79-bfb2-1bc41e463270"
      },
      "outputs": [
        {
          "name": "stdout",
          "output_type": "stream",
          "text": [
            "Верно: 329 Неверно: 171 Процент точности: 65.8\n"
          ]
        }
      ],
      "source": [
        "pos_df = data[data['Real'] == 'положительный'].sample(n=250)\n",
        "neg_df = data[data['Real'] == 'отрицательный'].sample(n=250)\n",
        "data4 = pd.concat([pos_df, neg_df])\n",
        "data4['Estimate'] = data4['Review'].apply(sentiment)\n",
        "data4['Real'] = data4['Rate'].apply(lambda x: 'положительный' if x > 3 else 'отрицательный')\n",
        "\n",
        "stat4 = {'неверно': 0, 'верно': 0}\n",
        "for index, row in data4.iterrows():\n",
        "    if row['Estimate'] != row['Real']:\n",
        "      stat4['неверно'] += 1\n",
        "    else:\n",
        "      stat4['верно'] += 1\n",
        "\n",
        "print('Верно:', stat4['верно'], 'Неверно:', stat4['неверно'], 'Процент точности:', round(stat4['верно']/(stat4['верно']+stat4['неверно'])*100, 4))\n"
      ]
    },
    {
      "cell_type": "markdown",
      "metadata": {
        "id": "OeWe4gOlVr_G"
      },
      "source": [
        "Таким образом, результат точности на пропорциональной выборке достаточно плох. Значит, необходимо что-то сделать со словарем, добавив туда слова с отрицательной окраской. Если таких слов не хватает в собственной выборке, необходимо либо парсить другие сайты либо воспользоваться готовым словарем (см. следующий способ)."
      ]
    },
    {
      "cell_type": "markdown",
      "metadata": {
        "id": "vLNhORKie4-K"
      },
      "source": [
        "**3) Расширение тонального словаря с помощью готовых размеченных словарей**"
      ]
    },
    {
      "cell_type": "markdown",
      "metadata": {
        "id": "q1_366WdfBen"
      },
      "source": [
        "Например, можно использовать [Карту слов](https://github.com/dkulagin/kartaslov?ysclid=lmtihzuzyw822019313).\n"
      ]
    },
    {
      "cell_type": "code",
      "execution_count": 32,
      "metadata": {
        "id": "rm_mEjzCg5d7"
      },
      "outputs": [],
      "source": [
        "sent_dict = pd.read_csv('kartaslovsent.csv', delimiter=';')"
      ]
    },
    {
      "cell_type": "code",
      "execution_count": 33,
      "metadata": {
        "colab": {
          "base_uri": "https://localhost:8080/",
          "height": 423
        },
        "id": "2ua0IziIhASX",
        "outputId": "b7a547ba-2b09-4d3a-ce9a-8f1593dbf063"
      },
      "outputs": [
        {
          "data": {
            "text/html": [
              "<div>\n",
              "<style scoped>\n",
              "    .dataframe tbody tr th:only-of-type {\n",
              "        vertical-align: middle;\n",
              "    }\n",
              "\n",
              "    .dataframe tbody tr th {\n",
              "        vertical-align: top;\n",
              "    }\n",
              "\n",
              "    .dataframe thead th {\n",
              "        text-align: right;\n",
              "    }\n",
              "</style>\n",
              "<table border=\"1\" class=\"dataframe\">\n",
              "  <thead>\n",
              "    <tr style=\"text-align: right;\">\n",
              "      <th></th>\n",
              "      <th>term</th>\n",
              "      <th>tag</th>\n",
              "      <th>value</th>\n",
              "      <th>pstv</th>\n",
              "      <th>ngtv</th>\n",
              "      <th>neut</th>\n",
              "      <th>dunno</th>\n",
              "      <th>pstvNgtvDisagreementRatio</th>\n",
              "    </tr>\n",
              "  </thead>\n",
              "  <tbody>\n",
              "    <tr>\n",
              "      <th>0</th>\n",
              "      <td>абажур</td>\n",
              "      <td>NEUT</td>\n",
              "      <td>0.08</td>\n",
              "      <td>0.185</td>\n",
              "      <td>0.037</td>\n",
              "      <td>0.580</td>\n",
              "      <td>0.198</td>\n",
              "      <td>0.00</td>\n",
              "    </tr>\n",
              "    <tr>\n",
              "      <th>1</th>\n",
              "      <td>аббатство</td>\n",
              "      <td>NEUT</td>\n",
              "      <td>0.10</td>\n",
              "      <td>0.192</td>\n",
              "      <td>0.038</td>\n",
              "      <td>0.578</td>\n",
              "      <td>0.192</td>\n",
              "      <td>0.00</td>\n",
              "    </tr>\n",
              "    <tr>\n",
              "      <th>2</th>\n",
              "      <td>аббревиатура</td>\n",
              "      <td>NEUT</td>\n",
              "      <td>0.08</td>\n",
              "      <td>0.196</td>\n",
              "      <td>0.000</td>\n",
              "      <td>0.630</td>\n",
              "      <td>0.174</td>\n",
              "      <td>0.00</td>\n",
              "    </tr>\n",
              "    <tr>\n",
              "      <th>3</th>\n",
              "      <td>абзац</td>\n",
              "      <td>NEUT</td>\n",
              "      <td>0.00</td>\n",
              "      <td>0.137</td>\n",
              "      <td>0.000</td>\n",
              "      <td>0.706</td>\n",
              "      <td>0.157</td>\n",
              "      <td>0.00</td>\n",
              "    </tr>\n",
              "    <tr>\n",
              "      <th>4</th>\n",
              "      <td>абиссинец</td>\n",
              "      <td>NEUT</td>\n",
              "      <td>0.28</td>\n",
              "      <td>0.151</td>\n",
              "      <td>0.113</td>\n",
              "      <td>0.245</td>\n",
              "      <td>0.491</td>\n",
              "      <td>0.19</td>\n",
              "    </tr>\n",
              "    <tr>\n",
              "      <th>...</th>\n",
              "      <td>...</td>\n",
              "      <td>...</td>\n",
              "      <td>...</td>\n",
              "      <td>...</td>\n",
              "      <td>...</td>\n",
              "      <td>...</td>\n",
              "      <td>...</td>\n",
              "      <td>...</td>\n",
              "    </tr>\n",
              "    <tr>\n",
              "      <th>46122</th>\n",
              "      <td>ёмкость</td>\n",
              "      <td>NEUT</td>\n",
              "      <td>0.00</td>\n",
              "      <td>0.167</td>\n",
              "      <td>0.000</td>\n",
              "      <td>0.690</td>\n",
              "      <td>0.143</td>\n",
              "      <td>0.00</td>\n",
              "    </tr>\n",
              "    <tr>\n",
              "      <th>46123</th>\n",
              "      <td>ёрзать</td>\n",
              "      <td>NGTV</td>\n",
              "      <td>-0.54</td>\n",
              "      <td>0.050</td>\n",
              "      <td>0.446</td>\n",
              "      <td>0.397</td>\n",
              "      <td>0.107</td>\n",
              "      <td>0.00</td>\n",
              "    </tr>\n",
              "    <tr>\n",
              "      <th>46124</th>\n",
              "      <td>ёрничать</td>\n",
              "      <td>NGTV</td>\n",
              "      <td>-0.79</td>\n",
              "      <td>0.078</td>\n",
              "      <td>0.529</td>\n",
              "      <td>0.236</td>\n",
              "      <td>0.157</td>\n",
              "      <td>0.00</td>\n",
              "    </tr>\n",
              "    <tr>\n",
              "      <th>46125</th>\n",
              "      <td>ёрш</td>\n",
              "      <td>NEUT</td>\n",
              "      <td>0.16</td>\n",
              "      <td>0.224</td>\n",
              "      <td>0.072</td>\n",
              "      <td>0.576</td>\n",
              "      <td>0.128</td>\n",
              "      <td>0.00</td>\n",
              "    </tr>\n",
              "    <tr>\n",
              "      <th>46126</th>\n",
              "      <td>ёршик</td>\n",
              "      <td>NEUT</td>\n",
              "      <td>0.00</td>\n",
              "      <td>0.152</td>\n",
              "      <td>0.043</td>\n",
              "      <td>0.718</td>\n",
              "      <td>0.087</td>\n",
              "      <td>0.00</td>\n",
              "    </tr>\n",
              "  </tbody>\n",
              "</table>\n",
              "<p>46127 rows × 8 columns</p>\n",
              "</div>"
            ],
            "text/plain": [
              "               term   tag  value   pstv   ngtv   neut  dunno  \\\n",
              "0            абажур  NEUT   0.08  0.185  0.037  0.580  0.198   \n",
              "1         аббатство  NEUT   0.10  0.192  0.038  0.578  0.192   \n",
              "2      аббревиатура  NEUT   0.08  0.196  0.000  0.630  0.174   \n",
              "3             абзац  NEUT   0.00  0.137  0.000  0.706  0.157   \n",
              "4         абиссинец  NEUT   0.28  0.151  0.113  0.245  0.491   \n",
              "...             ...   ...    ...    ...    ...    ...    ...   \n",
              "46122       ёмкость  NEUT   0.00  0.167  0.000  0.690  0.143   \n",
              "46123        ёрзать  NGTV  -0.54  0.050  0.446  0.397  0.107   \n",
              "46124      ёрничать  NGTV  -0.79  0.078  0.529  0.236  0.157   \n",
              "46125           ёрш  NEUT   0.16  0.224  0.072  0.576  0.128   \n",
              "46126         ёршик  NEUT   0.00  0.152  0.043  0.718  0.087   \n",
              "\n",
              "       pstvNgtvDisagreementRatio  \n",
              "0                           0.00  \n",
              "1                           0.00  \n",
              "2                           0.00  \n",
              "3                           0.00  \n",
              "4                           0.19  \n",
              "...                          ...  \n",
              "46122                       0.00  \n",
              "46123                       0.00  \n",
              "46124                       0.00  \n",
              "46125                       0.00  \n",
              "46126                       0.00  \n",
              "\n",
              "[46127 rows x 8 columns]"
            ]
          },
          "execution_count": 33,
          "metadata": {},
          "output_type": "execute_result"
        }
      ],
      "source": [
        "sent_dict"
      ]
    },
    {
      "cell_type": "code",
      "execution_count": 34,
      "metadata": {
        "id": "wihewU-lhALg"
      },
      "outputs": [],
      "source": [
        "def sentiment2(text):\n",
        "  positive_count = int()\n",
        "  negative_count = int()\n",
        "  for lemma in text:\n",
        "    if lemma in only_positive_freq:\n",
        "      positive_count += 1\n",
        "    elif lemma in only_negative_freq:\n",
        "      negative_count += 1\n",
        "    elif lemma in sent_dict['term']:\n",
        "      if sent_dict[sent_dict['term'] == lemma]['tag'] == 'PSTV':\n",
        "        positive_count += 1\n",
        "      elif sent_dict[sent_dict['term'] == lemma]['tag'] == 'NGTV':\n",
        "        negative_count += 1\n",
        "\n",
        "  if positive_count > negative_count:\n",
        "    return 'положительный'\n",
        "  elif positive_count < negative_count:\n",
        "    return 'отрицательный'\n",
        "  else:\n",
        "    return 'нейтральный'"
      ]
    },
    {
      "cell_type": "markdown",
      "metadata": {
        "id": "67ozDL-OVIYh"
      },
      "source": [
        "Возвращаемся к тональному словарю прежнего размера:"
      ]
    },
    {
      "cell_type": "code",
      "execution_count": null,
      "metadata": {
        "id": "3W_qQReSVH6V"
      },
      "outputs": [],
      "source": [
        "pos_df = data_full[data_full['Real'] == 'положительный'].sample(n=500)\n",
        "neg_df = data_full[data_full['Real'] == 'отрицательный']\n",
        "data_sample = pd.concat([pos_df, neg_df])\n",
        "data_sample['Review'] = data_sample['Review'].apply(get_clean)\n",
        "\n",
        "positive = data_sample[data_sample['Rate'] >= 4]['Review'].tolist()\n",
        "negative = data_sample[data_sample['Rate'] < 4]['Review'].tolist()\n",
        "positive = [element for each_list in positive for element in each_list]\n",
        "negative = [element for each_list in negative for element in each_list]\n",
        "only_positive = [x for x in positive if x not in negative]\n",
        "only_negative = [x for x in negative if x not in positive]\n",
        "\n",
        "only_positive_freq = []\n",
        "for word in only_positive:\n",
        "  if only_positive.count(word) > 2:\n",
        "    only_positive_freq.append(word)\n",
        "\n",
        "only_negative_freq = []\n",
        "for word in only_negative:\n",
        "  if only_negative.count(word) > 2:\n",
        "    only_negative_freq.append(word)\n",
        "\n",
        "only_positive_freq = set(only_positive_freq)\n",
        "only_negative_freq = set(only_negative_freq)"
      ]
    },
    {
      "cell_type": "code",
      "execution_count": 135,
      "metadata": {
        "colab": {
          "base_uri": "https://localhost:8080/"
        },
        "id": "yYI_brCqWH4P",
        "outputId": "0926e9e8-2c5f-4606-e122-34c4f2ba2d70"
      },
      "outputs": [
        {
          "data": {
            "text/plain": [
              "[616, 270]"
            ]
          },
          "execution_count": 135,
          "metadata": {},
          "output_type": "execute_result"
        }
      ],
      "source": [
        "[len(only_positive_freq), len(only_negative_freq)]"
      ]
    },
    {
      "cell_type": "code",
      "execution_count": 134,
      "metadata": {
        "colab": {
          "base_uri": "https://localhost:8080/"
        },
        "id": "xwVaMSVrhCGN",
        "outputId": "bda478be-68d7-465d-e46c-629c370b5b35"
      },
      "outputs": [
        {
          "name": "stdout",
          "output_type": "stream",
          "text": [
            "Верно: 431 Неверно: 69 Процент точности: 86.2\n"
          ]
        }
      ],
      "source": [
        "pos_df = data[data['Real'] == 'положительный'].sample(n=250)\n",
        "neg_df = data[data['Real'] == 'отрицательный'].sample(n=250)\n",
        "data5 = pd.concat([pos_df, neg_df])\n",
        "# data5 = data.sample(frac=0.2)\n",
        "data5['Estimate'] = data5['Review'].apply(sentiment)\n",
        "data5['Real'] = data5['Rate'].apply(lambda x: 'положительный' if x > 3 else 'отрицательный')\n",
        "\n",
        "stat5 = {'неверно': 0, 'верно': 0}\n",
        "for index, row in data5.iterrows():\n",
        "    if row['Estimate'] != row['Real']:\n",
        "      stat5['неверно'] += 1\n",
        "    else:\n",
        "      stat5['верно'] += 1\n",
        "\n",
        "print('Верно:', stat5['верно'], 'Неверно:', stat5['неверно'], 'Процент точности:', round(stat5['верно']/(stat5['верно']+stat5['неверно'])*100, 3))"
      ]
    },
    {
      "cell_type": "markdown",
      "metadata": {
        "id": "dOBO_zYeVTUX"
      },
      "source": [
        "Заметим, что, несмотря на то что точность не сильно повысилась, алгоритм стал устойчивее (точность теперь не опускается ниже 82%)."
      ]
    },
    {
      "cell_type": "markdown",
      "metadata": {
        "id": "ZFO2uh9ShD8w"
      },
      "source": [
        "**4) Удаление стоп-слов из списка лемм**"
      ]
    },
    {
      "cell_type": "code",
      "execution_count": 121,
      "metadata": {
        "id": "Be8BV5DQhOzv"
      },
      "outputs": [],
      "source": [
        "only_positive_freq2 = [x for x in only_positive_freq if x not in list(stops)]\n",
        "only_negative_freq2 = [x for x in only_negative_freq if x not in list(stops)]"
      ]
    },
    {
      "cell_type": "code",
      "execution_count": 122,
      "metadata": {
        "colab": {
          "base_uri": "https://localhost:8080/"
        },
        "id": "erz9duOqhPuX",
        "outputId": "c1b6227f-aa68-4bee-a96b-65ce63d31ece"
      },
      "outputs": [
        {
          "data": {
            "text/plain": [
              "[616, 270]"
            ]
          },
          "execution_count": 122,
          "metadata": {},
          "output_type": "execute_result"
        }
      ],
      "source": [
        "[len(only_positive_freq2), len(only_negative_freq2)]"
      ]
    },
    {
      "cell_type": "markdown",
      "metadata": {
        "id": "7Gm2a9udhRxp"
      },
      "source": [
        "Однако этот метод ни к чему не привел, поскольку, вероятнее всего, стоп-слова находятся на пересечении двух категорий отзывов (встречаются как в положительных, так и в отрицательных отзывах), поэтому объем словаря не меняется --> не меняется точность."
      ]
    },
    {
      "cell_type": "markdown",
      "metadata": {},
      "source": [
        "### **6. Разные модели классификации**"
      ]
    },
    {
      "cell_type": "markdown",
      "metadata": {},
      "source": [
        "**На этапе векторизации были использованы следующие векторизаторы:**\n",
        "<p> -- CountVectorizer\n",
        "<p> -- TF-IDF"
      ]
    },
    {
      "cell_type": "markdown",
      "metadata": {},
      "source": [
        "**Модели, которые использовались для задачи классификации:**\n",
        "<p> -- Логистическая регрессия\n",
        "<p> -- DecisionTreeClassifier (дерево решений)\n",
        "<p> -- RandomForestClassifier (алгоритм случайного дерева)\n",
        "<p> -- KNeighborsClassifier (метод ближайших соседей)\n",
        "<p> -- MLPClassifier (многослойный перцептрон)\n",
        "<p> -- SVC (метод опорных векторов)\n"
      ]
    },
    {
      "cell_type": "markdown",
      "metadata": {},
      "source": [
        "6.1. TF-IDF"
      ]
    },
    {
      "cell_type": "code",
      "execution_count": 71,
      "metadata": {},
      "outputs": [
        {
          "data": {
            "text/plain": [
              "0.54421768707483"
            ]
          },
          "execution_count": 71,
          "metadata": {},
          "output_type": "execute_result"
        }
      ],
      "source": [
        "pos_df = data[data['Real'] == 'положительный'].sample(n=400)\n",
        "neg_df = data[data['Real'] == 'отрицательный']\n",
        "data5 = pd.concat([pos_df, neg_df])\n",
        "data5['Review'] = data5['Review'].apply(lambda x: ' '.join(x))\n",
        "d_train, d_test, y_train, y_test = train_test_split(data5['Review'], data5['Real'], train_size=0.8, random_state=0) #обучаем модель на около 2к примерах\n",
        "vec = TfidfVectorizer(binary=True, max_features=1000)\n",
        "vec.fit_transform(d_train)\n",
        "X_train = vec.transform(d_train).astype(int)\n",
        "X_test = vec.transform(d_test).astype(int)\n",
        "Y_train = vec.transform(y_train).astype(int)\n",
        "Y_test = vec.transform(y_test).astype(int)\n",
        "\n",
        "model = LogisticRegression()\n",
        "model.fit(X_train, y_train)\n",
        "y_pred = model.predict(X_test)\n",
        "accuracy_score(y_test, y_pred)"
      ]
    },
    {
      "cell_type": "code",
      "execution_count": 72,
      "metadata": {},
      "outputs": [
        {
          "data": {
            "text/plain": [
              "0.54421768707483"
            ]
          },
          "execution_count": 72,
          "metadata": {},
          "output_type": "execute_result"
        }
      ],
      "source": [
        "from sklearn.tree import DecisionTreeClassifier\n",
        "tree = DecisionTreeClassifier(max_depth=35)\n",
        "tree.fit(X_train, y_train)\n",
        "y_pred = tree.predict(X_test)\n",
        "accuracy_score(y_test, y_pred)"
      ]
    },
    {
      "cell_type": "code",
      "execution_count": 73,
      "metadata": {},
      "outputs": [
        {
          "data": {
            "text/plain": [
              "0.54421768707483"
            ]
          },
          "execution_count": 73,
          "metadata": {},
          "output_type": "execute_result"
        }
      ],
      "source": [
        "from sklearn.ensemble import RandomForestClassifier\n",
        "random_forest = RandomForestClassifier(criterion='gini', min_samples_leaf=1, n_estimators=200, max_depth=100, random_state=2).fit(X_train, y_train)\n",
        "y_pred = random_forest.predict(X_test)\n",
        "accuracy_score(y_test, y_pred)"
      ]
    },
    {
      "cell_type": "code",
      "execution_count": 74,
      "metadata": {},
      "outputs": [
        {
          "data": {
            "text/plain": [
              "0.54421768707483"
            ]
          },
          "execution_count": 74,
          "metadata": {},
          "output_type": "execute_result"
        }
      ],
      "source": [
        "from sklearn.neighbors import KNeighborsClassifier\n",
        "knn = KNeighborsClassifier(n_neighbors=200)\n",
        "knn.fit(X_train, y_train)\n",
        "y_pred = knn.predict(X_test)\n",
        "accuracy_score(y_test, y_pred)"
      ]
    },
    {
      "cell_type": "code",
      "execution_count": 75,
      "metadata": {},
      "outputs": [
        {
          "data": {
            "text/plain": [
              "0.54421768707483"
            ]
          },
          "execution_count": 75,
          "metadata": {},
          "output_type": "execute_result"
        }
      ],
      "source": [
        "from sklearn.neural_network import MLPClassifier\n",
        "mlp_model = MLPClassifier(solver='lbfgs', alpha=1e-05, hidden_layer_sizes=(350, 2), random_state=1).fit(X_train, y_train)\n",
        "y_pred = mlp_model.predict(X_test)\n",
        "accuracy_score(y_test, y_pred)"
      ]
    },
    {
      "cell_type": "code",
      "execution_count": 76,
      "metadata": {},
      "outputs": [
        {
          "data": {
            "text/plain": [
              "0.54421768707483"
            ]
          },
          "execution_count": 76,
          "metadata": {},
          "output_type": "execute_result"
        }
      ],
      "source": [
        "from sklearn.svm import SVC\n",
        "svc_model = SVC(kernel='linear')\n",
        "svc_model.fit(X_train, y_train)\n",
        "y_pred = svc_model.predict(X_test)\n",
        "accuracy_score(y_test, y_pred)"
      ]
    },
    {
      "cell_type": "markdown",
      "metadata": {},
      "source": [
        "2. CountVectorizer + LogisticRegression"
      ]
    },
    {
      "cell_type": "code",
      "execution_count": 45,
      "metadata": {},
      "outputs": [
        {
          "name": "stderr",
          "output_type": "stream",
          "text": [
            "C:\\Users\\602\\AppData\\Local\\Packages\\PythonSoftwareFoundation.Python.3.9_qbz5n2kfra8p0\\LocalCache\\local-packages\\Python39\\site-packages\\sklearn\\utils\\deprecation.py:87: FutureWarning: Function get_feature_names is deprecated; get_feature_names is deprecated in 1.0 and will be removed in 1.2. Please use get_feature_names_out instead.\n",
            "  warnings.warn(msg, category=FutureWarning)\n"
          ]
        },
        {
          "data": {
            "text/plain": [
              "0.85"
            ]
          },
          "execution_count": 45,
          "metadata": {},
          "output_type": "execute_result"
        }
      ],
      "source": [
        "import pandas as pd\n",
        "from sklearn.feature_extraction.text import CountVectorizer\n",
        "from collections import Counter\n",
        "from sklearn.datasets import fetch_20newsgroups\n",
        "from sklearn.model_selection import train_test_split\n",
        "from sklearn.linear_model import LogisticRegression\n",
        "from sklearn.metrics import accuracy_score, f1_score\n",
        "from sklearn.model_selection import cross_val_score\n",
        "\n",
        "cvec = CountVectorizer(binary=True, max_features=10000)\n",
        "cvec.fit(d_train)\n",
        "X_train = cvec.transform(d_train).astype(int)\n",
        "X_test = cvec.transform(d_test).astype(int)\n",
        "feature_names = cvec.get_feature_names()\n",
        "\n",
        "model = LogisticRegression()\n",
        "model.fit(X_train, y_train)\n",
        "y_pred = model.predict(X_test)\n",
        "accuracy_score(y_test, y_pred)"
      ]
    },
    {
      "cell_type": "code",
      "execution_count": 54,
      "metadata": {},
      "outputs": [
        {
          "data": {
            "text/plain": [
              "0.7"
            ]
          },
          "execution_count": 54,
          "metadata": {},
          "output_type": "execute_result"
        }
      ],
      "source": [
        "from sklearn.tree import DecisionTreeClassifier\n",
        "tree = DecisionTreeClassifier(max_depth=35)\n",
        "tree.fit(X_train, y_train)\n",
        "y_pred = tree.predict(X_test)\n",
        "accuracy_score(y_test, y_pred)"
      ]
    },
    {
      "cell_type": "code",
      "execution_count": 55,
      "metadata": {},
      "outputs": [
        {
          "data": {
            "text/plain": [
              "0.83"
            ]
          },
          "execution_count": 55,
          "metadata": {},
          "output_type": "execute_result"
        }
      ],
      "source": [
        "from sklearn.ensemble import RandomForestClassifier\n",
        "random_forest = RandomForestClassifier(criterion='gini', min_samples_leaf=1, n_estimators=200, max_depth=100, random_state=2).fit(X_train, y_train)\n",
        "y_pred = random_forest.predict(X_test)\n",
        "accuracy_score(y_test, y_pred)"
      ]
    },
    {
      "cell_type": "code",
      "execution_count": 56,
      "metadata": {},
      "outputs": [
        {
          "data": {
            "text/plain": [
              "0.73"
            ]
          },
          "execution_count": 56,
          "metadata": {},
          "output_type": "execute_result"
        }
      ],
      "source": [
        "from sklearn.neighbors import KNeighborsClassifier\n",
        "knn = KNeighborsClassifier(n_neighbors=200)\n",
        "knn.fit(X_train, y_train)\n",
        "y_pred = knn.predict(X_test)\n",
        "accuracy_score(y_test, y_pred)"
      ]
    },
    {
      "cell_type": "code",
      "execution_count": 80,
      "metadata": {},
      "outputs": [
        {
          "data": {
            "text/plain": [
              "0.54421768707483"
            ]
          },
          "execution_count": 80,
          "metadata": {},
          "output_type": "execute_result"
        }
      ],
      "source": [
        "from sklearn.neural_network import MLPClassifier\n",
        "mlp_model = MLPClassifier(solver='lbfgs', alpha=1e-05, hidden_layer_sizes=(200, 2), random_state=1).fit(X_train, y_train)\n",
        "y_pred = mlp_model.predict(X_test)\n",
        "accuracy_score(y_test, y_pred)"
      ]
    },
    {
      "cell_type": "code",
      "execution_count": 58,
      "metadata": {},
      "outputs": [
        {
          "data": {
            "text/plain": [
              "0.82"
            ]
          },
          "execution_count": 58,
          "metadata": {},
          "output_type": "execute_result"
        }
      ],
      "source": [
        "from sklearn.svm import SVC\n",
        "svc_model = SVC(kernel='linear')\n",
        "svc_model.fit(X_train, y_train)\n",
        "y_pred = svc_model.predict(X_test)\n",
        "accuracy_score(y_test, y_pred)"
      ]
    },
    {
      "cell_type": "markdown",
      "metadata": {},
      "source": [
        "Таким образом, наиболее точные результаты выдает модель CountVectorizer + LogisticRegression (85%). Векторизация с помощью TF-IDF в сочетании с любыми из рассматриваемых моделей дает плохие результаты."
      ]
    }
  ],
  "metadata": {
    "colab": {
      "provenance": []
    },
    "kernelspec": {
      "display_name": "Python 3",
      "name": "python3"
    },
    "language_info": {
      "codemirror_mode": {
        "name": "ipython",
        "version": 3
      },
      "file_extension": ".py",
      "mimetype": "text/x-python",
      "name": "python",
      "nbconvert_exporter": "python",
      "pygments_lexer": "ipython3",
      "version": "3.9.13"
    }
  },
  "nbformat": 4,
  "nbformat_minor": 0
}
